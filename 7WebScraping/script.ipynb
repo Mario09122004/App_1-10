{
 "cells": [
  {
   "cell_type": "markdown",
   "id": "f0ddd9cd",
   "metadata": {},
   "source": [
    "### Web Scrapig"
   ]
  },
  {
   "cell_type": "code",
   "execution_count": 1,
   "id": "7065ebcb",
   "metadata": {},
   "outputs": [],
   "source": [
    "import requests\n",
    "from bs4 import BeautifulSoup"
   ]
  },
  {
   "cell_type": "code",
   "execution_count": 2,
   "id": "bacbe33a",
   "metadata": {},
   "outputs": [],
   "source": [
    "r = requests.get('https://pythonizing.github.io/data/real-estate/rock-springs-wy/LCWYROCKSPRINGS/')\n",
    "c = r.content"
   ]
  },
  {
   "cell_type": "code",
   "execution_count": null,
   "id": "1cb19ca8",
   "metadata": {},
   "outputs": [],
   "source": []
  },
  {
   "cell_type": "code",
   "execution_count": 3,
   "id": "f311d96d",
   "metadata": {},
   "outputs": [],
   "source": [
    "soup = BeautifulSoup(c, 'html.parser')\n",
    "#print(soup.prettify())"
   ]
  },
  {
   "cell_type": "code",
   "execution_count": 4,
   "id": "9707da91",
   "metadata": {},
   "outputs": [],
   "source": [
    "all = soup.find_all('div', {'class': 'propertyRow'})"
   ]
  },
  {
   "cell_type": "code",
   "execution_count": 5,
   "id": "b15bf74b",
   "metadata": {},
   "outputs": [
    {
     "data": {
      "text/plain": [
       "'$725,000'"
      ]
     },
     "execution_count": 5,
     "metadata": {},
     "output_type": "execute_result"
    }
   ],
   "source": [
    "all[0].find(\"h4\", {\"class\": \"propPrice\"}).text.replace(\"\\n\", \"\").replace(\" \", \"\")"
   ]
  },
  {
   "cell_type": "code",
   "execution_count": 6,
   "id": "f71deff2",
   "metadata": {},
   "outputs": [
    {
     "name": "stdout",
     "output_type": "stream",
     "text": [
      "$725,000\n",
      "0 Gateway\n",
      "Rock Springs, WY 82901\n",
      "None\n",
      "None\n",
      "None\n",
      "----------------------------------\n",
      "$452,900\n",
      "1003 Winchester Blvd.\n",
      "Rock Springs, WY 82901\n",
      "4\n",
      "4\n",
      "None\n",
      "Lot Size: 0.21 Acres\n",
      "----------------------------------\n",
      "$396,900\n",
      "600 Talladega\n",
      "Rock Springs, WY 82901\n",
      "5\n",
      "3\n",
      "None\n",
      "----------------------------------\n",
      "$389,900\n",
      "3239 Spearhead Way\n",
      "Rock Springs, WY 82901\n",
      "4\n",
      "3\n",
      "1\n",
      "Lot Size: Under 1/2 Acre, \n",
      "----------------------------------\n",
      "$254,000\n",
      "522 Emerald Street\n",
      "Rock Springs, WY 82901\n",
      "3\n",
      "3\n",
      "None\n",
      "Lot Size: Under 1/2 Acre, \n",
      "----------------------------------\n",
      "$252,900\n",
      "1302 Veteran's Drive\n",
      "Rock Springs, WY 82901\n",
      "4\n",
      "2\n",
      "None\n",
      "Lot Size: 0.27 Acres\n",
      "----------------------------------\n",
      "$210,000\n",
      "1021 Cypress Cir\n",
      "Rock Springs, WY 82901\n",
      "4\n",
      "3\n",
      "None\n",
      "Lot Size: Under 1/2 Acre, \n",
      "----------------------------------\n",
      "$209,000\n",
      "913 Madison Dr\n",
      "Rock Springs, WY 82901\n",
      "3\n",
      "2\n",
      "None\n",
      "Lot Size: Under 1/2 Acre, \n",
      "----------------------------------\n",
      "$199,900\n",
      "1344 Teton Street\n",
      "Rock Springs, WY 82901\n",
      "3\n",
      "2\n",
      "None\n",
      "Lot Size: Under 1/2 Acre, \n",
      "----------------------------------\n",
      "$196,900\n",
      "4 Minnies Lane\n",
      "Rock Springs, WY 82901\n",
      "3\n",
      "2\n",
      "None\n",
      "Lot Size: 2.02 Acres\n",
      "----------------------------------\n"
     ]
    }
   ],
   "source": [
    "for item in all:\n",
    "    print(item.find(\"h4\", {\"class\": \"propPrice\"}).text.replace(\"\\n\", \"\").replace(\" \", \"\"))\n",
    "    print(item.find_all(\"span\", {\"class\": \"propAddressCollapse\"})[0].text)\n",
    "    print(item.find_all(\"span\", {\"class\": \"propAddressCollapse\"})[1].text)\n",
    "    try:\n",
    "        print(item.find(\"span\", {\"class\": \"infoBed\"}).find(\"b\").text)\n",
    "    except:\n",
    "        print(None)\n",
    "    \n",
    "    try:\n",
    "        print(item.find(\"span\", {\"class\": \"infoValueFullBath\"}).find(\"b\").text)\n",
    "    except:\n",
    "        print(None)\n",
    "\n",
    "    try:\n",
    "        print(item.find(\"span\", {\"class\": \"infoValueHalfBath\"}).find(\"b\").text)\n",
    "    except:\n",
    "        print(None)\n",
    "\n",
    "    for column_group in item.find_all(\"div\", {\"class\": \"columnGroup\"}):\n",
    "        #print(column_group)\n",
    "        for feature_group, feature_name in zip(column_group.find_all(\"span\",{\"class\":\"featureGroup\"}), column_group.find_all(\"span\",{\"class\":\"featureName\"})):\n",
    "            #print(feature_group.text, feature_name.text)\n",
    "            if \"Lot Size\" in feature_group.text:\n",
    "                print(\"Lot Size:\", feature_name.text)\n",
    "\n",
    "    print(\"----------------------------------\")"
   ]
  },
  {
   "cell_type": "markdown",
   "id": "72696cc1",
   "metadata": {},
   "source": [
    "### Generate CSV"
   ]
  },
  {
   "cell_type": "code",
   "execution_count": 10,
   "id": "24c50c91",
   "metadata": {},
   "outputs": [
    {
     "name": "stdout",
     "output_type": "stream",
     "text": [
      "It's over\n"
     ]
    }
   ],
   "source": [
    "l = []\n",
    "for item in all:\n",
    "    d={}\n",
    "    d[\"Price\"] = item.find(\"h4\", {\"class\": \"propPrice\"}).text.replace(\"\\n\", \"\").replace(\" \", \"\")\n",
    "    d[\"Address\"] = item.find_all(\"span\", {\"class\": \"propAddressCollapse\"})[0].text\n",
    "    d[\"Locality\"] = item.find_all(\"span\", {\"class\": \"propAddressCollapse\"})[1].text\n",
    "    try:\n",
    "        d[\"Beds\"] = item.find(\"span\", {\"class\": \"infoBed\"}).find(\"b\").text\n",
    "    except:\n",
    "        d[\"Beds\"] = None\n",
    "\n",
    "    try:\n",
    "        d[\"Full Baths\"] = item.find(\"span\", {\"class\": \"infoValueFullBath\"}).find(\"b\").text\n",
    "    except:\n",
    "        d[\"Full Baths\"] = None\n",
    "\n",
    "    try:\n",
    "        d[\"Half Baths\"] = item.find(\"span\", {\"class\": \"infoValueHalfBath\"}).find(\"b\").text\n",
    "    except:\n",
    "        d[\"Half Baths\"] = None\n",
    "\n",
    "    for column_group in item.find_all(\"div\", {\"class\": \"columnGroup\"}):\n",
    "        #print(column_group)\n",
    "        for feature_group, feature_name in zip(column_group.find_all(\"span\",{\"class\":\"featureGroup\"}), column_group.find_all(\"span\",{\"class\":\"featureName\"})):\n",
    "            #print(feature_group.text, feature_name.text)\n",
    "            if \"Lot Size\" in feature_group.text:\n",
    "                d[\"Lot Size\"] = feature_name.text\n",
    "    l.append(d)\n",
    "\n",
    "print(\"It's over\")"
   ]
  },
  {
   "cell_type": "code",
   "execution_count": 12,
   "id": "0713727b",
   "metadata": {},
   "outputs": [
    {
     "data": {
      "text/plain": [
       "10"
      ]
     },
     "execution_count": 12,
     "metadata": {},
     "output_type": "execute_result"
    }
   ],
   "source": [
    "len(l)"
   ]
  },
  {
   "cell_type": "code",
   "execution_count": 13,
   "id": "00a2df23",
   "metadata": {},
   "outputs": [],
   "source": [
    "import pandas\n",
    "df = pandas.DataFrame(l)"
   ]
  },
  {
   "cell_type": "code",
   "execution_count": null,
   "id": "9fcd1b0b",
   "metadata": {},
   "outputs": [],
   "source": []
  },
  {
   "cell_type": "code",
   "execution_count": 14,
   "id": "ff72399e",
   "metadata": {},
   "outputs": [
    {
     "data": {
      "text/html": [
       "<div>\n",
       "<style scoped>\n",
       "    .dataframe tbody tr th:only-of-type {\n",
       "        vertical-align: middle;\n",
       "    }\n",
       "\n",
       "    .dataframe tbody tr th {\n",
       "        vertical-align: top;\n",
       "    }\n",
       "\n",
       "    .dataframe thead th {\n",
       "        text-align: right;\n",
       "    }\n",
       "</style>\n",
       "<table border=\"1\" class=\"dataframe\">\n",
       "  <thead>\n",
       "    <tr style=\"text-align: right;\">\n",
       "      <th></th>\n",
       "      <th>Price</th>\n",
       "      <th>Address</th>\n",
       "      <th>Locality</th>\n",
       "      <th>Beds</th>\n",
       "      <th>Full Baths</th>\n",
       "      <th>Half Baths</th>\n",
       "      <th>Lot Size</th>\n",
       "    </tr>\n",
       "  </thead>\n",
       "  <tbody>\n",
       "    <tr>\n",
       "      <th>0</th>\n",
       "      <td>$725,000</td>\n",
       "      <td>0 Gateway</td>\n",
       "      <td>Rock Springs, WY 82901</td>\n",
       "      <td>None</td>\n",
       "      <td>None</td>\n",
       "      <td>None</td>\n",
       "      <td>NaN</td>\n",
       "    </tr>\n",
       "    <tr>\n",
       "      <th>1</th>\n",
       "      <td>$452,900</td>\n",
       "      <td>1003 Winchester Blvd.</td>\n",
       "      <td>Rock Springs, WY 82901</td>\n",
       "      <td>4</td>\n",
       "      <td>4</td>\n",
       "      <td>None</td>\n",
       "      <td>0.21 Acres</td>\n",
       "    </tr>\n",
       "    <tr>\n",
       "      <th>2</th>\n",
       "      <td>$396,900</td>\n",
       "      <td>600 Talladega</td>\n",
       "      <td>Rock Springs, WY 82901</td>\n",
       "      <td>5</td>\n",
       "      <td>3</td>\n",
       "      <td>None</td>\n",
       "      <td>NaN</td>\n",
       "    </tr>\n",
       "    <tr>\n",
       "      <th>3</th>\n",
       "      <td>$389,900</td>\n",
       "      <td>3239 Spearhead Way</td>\n",
       "      <td>Rock Springs, WY 82901</td>\n",
       "      <td>4</td>\n",
       "      <td>3</td>\n",
       "      <td>1</td>\n",
       "      <td>Under 1/2 Acre,</td>\n",
       "    </tr>\n",
       "    <tr>\n",
       "      <th>4</th>\n",
       "      <td>$254,000</td>\n",
       "      <td>522 Emerald Street</td>\n",
       "      <td>Rock Springs, WY 82901</td>\n",
       "      <td>3</td>\n",
       "      <td>3</td>\n",
       "      <td>None</td>\n",
       "      <td>Under 1/2 Acre,</td>\n",
       "    </tr>\n",
       "    <tr>\n",
       "      <th>5</th>\n",
       "      <td>$252,900</td>\n",
       "      <td>1302 Veteran's Drive</td>\n",
       "      <td>Rock Springs, WY 82901</td>\n",
       "      <td>4</td>\n",
       "      <td>2</td>\n",
       "      <td>None</td>\n",
       "      <td>0.27 Acres</td>\n",
       "    </tr>\n",
       "    <tr>\n",
       "      <th>6</th>\n",
       "      <td>$210,000</td>\n",
       "      <td>1021 Cypress Cir</td>\n",
       "      <td>Rock Springs, WY 82901</td>\n",
       "      <td>4</td>\n",
       "      <td>3</td>\n",
       "      <td>None</td>\n",
       "      <td>Under 1/2 Acre,</td>\n",
       "    </tr>\n",
       "    <tr>\n",
       "      <th>7</th>\n",
       "      <td>$209,000</td>\n",
       "      <td>913 Madison Dr</td>\n",
       "      <td>Rock Springs, WY 82901</td>\n",
       "      <td>3</td>\n",
       "      <td>2</td>\n",
       "      <td>None</td>\n",
       "      <td>Under 1/2 Acre,</td>\n",
       "    </tr>\n",
       "    <tr>\n",
       "      <th>8</th>\n",
       "      <td>$199,900</td>\n",
       "      <td>1344 Teton Street</td>\n",
       "      <td>Rock Springs, WY 82901</td>\n",
       "      <td>3</td>\n",
       "      <td>2</td>\n",
       "      <td>None</td>\n",
       "      <td>Under 1/2 Acre,</td>\n",
       "    </tr>\n",
       "    <tr>\n",
       "      <th>9</th>\n",
       "      <td>$196,900</td>\n",
       "      <td>4 Minnies Lane</td>\n",
       "      <td>Rock Springs, WY 82901</td>\n",
       "      <td>3</td>\n",
       "      <td>2</td>\n",
       "      <td>None</td>\n",
       "      <td>2.02 Acres</td>\n",
       "    </tr>\n",
       "  </tbody>\n",
       "</table>\n",
       "</div>"
      ],
      "text/plain": [
       "      Price                Address                Locality  Beds Full Baths  \\\n",
       "0  $725,000              0 Gateway  Rock Springs, WY 82901  None       None   \n",
       "1  $452,900  1003 Winchester Blvd.  Rock Springs, WY 82901     4          4   \n",
       "2  $396,900          600 Talladega  Rock Springs, WY 82901     5          3   \n",
       "3  $389,900     3239 Spearhead Way  Rock Springs, WY 82901     4          3   \n",
       "4  $254,000     522 Emerald Street  Rock Springs, WY 82901     3          3   \n",
       "5  $252,900   1302 Veteran's Drive  Rock Springs, WY 82901     4          2   \n",
       "6  $210,000       1021 Cypress Cir  Rock Springs, WY 82901     4          3   \n",
       "7  $209,000         913 Madison Dr  Rock Springs, WY 82901     3          2   \n",
       "8  $199,900      1344 Teton Street  Rock Springs, WY 82901     3          2   \n",
       "9  $196,900         4 Minnies Lane  Rock Springs, WY 82901     3          2   \n",
       "\n",
       "  Half Baths          Lot Size  \n",
       "0       None               NaN  \n",
       "1       None        0.21 Acres  \n",
       "2       None               NaN  \n",
       "3          1  Under 1/2 Acre,   \n",
       "4       None  Under 1/2 Acre,   \n",
       "5       None        0.27 Acres  \n",
       "6       None  Under 1/2 Acre,   \n",
       "7       None  Under 1/2 Acre,   \n",
       "8       None  Under 1/2 Acre,   \n",
       "9       None        2.02 Acres  "
      ]
     },
     "execution_count": 14,
     "metadata": {},
     "output_type": "execute_result"
    }
   ],
   "source": [
    "df"
   ]
  },
  {
   "cell_type": "code",
   "execution_count": 15,
   "id": "b6e5fc62",
   "metadata": {},
   "outputs": [],
   "source": [
    "df.to_csv(\"Output.csv\")"
   ]
  },
  {
   "cell_type": "markdown",
   "id": "f3f23139",
   "metadata": {},
   "source": [
    "### Many pages"
   ]
  },
  {
   "cell_type": "code",
   "execution_count": 33,
   "id": "b53388dc",
   "metadata": {},
   "outputs": [],
   "source": [
    "base_url = \"https://pythonizing.github.io/data/real-estate/rock-springs-wy/LCWYROCKSPRINGS/t=0&s=\"\n",
    "new_l = []\n",
    "for page in range(0,30,10):\n",
    "    #print(base_url + str(page) + \".html\")\n",
    "    r = requests.get(base_url + str(page) + \".html\")\n",
    "    c = r.content\n",
    "    soup = BeautifulSoup(c, 'html.parser')\n",
    "    all = soup.find_all('div', {'class': 'propertyRow'})\n",
    "    for item in all:\n",
    "        d={}\n",
    "        d[\"Price\"] = item.find(\"h4\", {\"class\": \"propPrice\"}).text.replace(\"\\n\", \"\").replace(\" \", \"\")\n",
    "        d[\"Address\"] = item.find_all(\"span\", {\"class\": \"propAddressCollapse\"})[0].text\n",
    "        d[\"Locality\"] = item.find_all(\"span\", {\"class\": \"propAddressCollapse\"})[1].text\n",
    "        try:\n",
    "            d[\"Beds\"] = item.find(\"span\", {\"class\": \"infoBed\"}).find(\"b\").text\n",
    "        except:\n",
    "            d[\"Beds\"] = None\n",
    "\n",
    "        try:\n",
    "            d[\"Full Baths\"] = item.find(\"span\", {\"class\": \"infoValueFullBath\"}).find(\"b\").text\n",
    "        except:\n",
    "            d[\"Full Baths\"] = None\n",
    "\n",
    "        try:\n",
    "            d[\"Half Baths\"] = item.find(\"span\", {\"class\": \"infoValueHalfBath\"}).find(\"b\").text\n",
    "        except:\n",
    "            d[\"Half Baths\"] = None\n",
    "\n",
    "        for column_group in item.find_all(\"div\", {\"class\": \"columnGroup\"}):\n",
    "            #print(column_group)\n",
    "            for feature_group, feature_name in zip(column_group.find_all(\"span\",{\"class\":\"featureGroup\"}), column_group.find_all(\"span\",{\"class\":\"featureName\"})):\n",
    "                #print(feature_group.text, feature_name.text)\n",
    "                if \"Lot Size\" in feature_group.text:\n",
    "                    d[\"Lot Size\"] = feature_name.text\n",
    "        new_l.append(d)"
   ]
  },
  {
   "cell_type": "code",
   "execution_count": 38,
   "id": "87e51bc5",
   "metadata": {},
   "outputs": [],
   "source": [
    "new_cvs = pandas.DataFrame(new_l)\n",
    "new_cvs.to_csv(\"NewOutput.csv\")"
   ]
  }
 ],
 "metadata": {
  "kernelspec": {
   "display_name": "Python 3",
   "language": "python",
   "name": "python3"
  },
  "language_info": {
   "codemirror_mode": {
    "name": "ipython",
    "version": 3
   },
   "file_extension": ".py",
   "mimetype": "text/x-python",
   "name": "python",
   "nbconvert_exporter": "python",
   "pygments_lexer": "ipython3",
   "version": "3.10.12"
  }
 },
 "nbformat": 4,
 "nbformat_minor": 5
}
